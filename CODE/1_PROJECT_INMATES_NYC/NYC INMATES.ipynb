{
 "cells": [
  {
   "cell_type": "markdown",
   "metadata": {},
   "source": [
    "# Daily Inmates In Custody in NYC\n",
    "I have found a dataset which has the daily inmates who are in custody in NYC. By looking at the data, I noticed that almost 40% of the inmates are under mental observation. This is a pretty high number, which means that the 'system' instead of taking care the people with mental health problems in specialized facilities, it puts them away in prizon. We'll focus on the inmates who are under mental observation and will try to find more information about them.  \n",
    "\n",
    "I found the data at the https://opendata.cityofnewyork.us/ . After reading the documentation about their API I connected to their data. \n",
    "\n",
    "<b> Things that I want to do </b>\n",
    "\n",
    "a) use more the \"stack\" feature of .plot()\n",
    "\n",
    "b) find out what some codes are (used at the dataset).\n",
    "\n",
    "c) examine the data overtime (use time in the visualizations)\n",
    "\n",
    "d) need to do more work on the analysis of the data. Ideally to see whats the situation in other states. "
   ]
  },
  {
   "cell_type": "code",
   "execution_count": 4,
   "metadata": {},
   "outputs": [],
   "source": [
    "import matplotlib.pyplot as plt\n",
    "%matplotlib inline"
   ]
  },
  {
   "cell_type": "code",
   "execution_count": 5,
   "metadata": {},
   "outputs": [
    {
     "name": "stderr",
     "output_type": "stream",
     "text": [
      "WARNING:root:Requests made without an app_token will be subject to strict throttling limits.\n"
     ]
    },
    {
     "data": {
      "text/plain": [
       "8173"
      ]
     },
     "execution_count": 5,
     "metadata": {},
     "output_type": "execute_result"
    }
   ],
   "source": [
    "#!/usr/bin/env python\n",
    "\n",
    "# make sure to install these packages before running:\n",
    "# pip install pandas\n",
    "# pip install sodapy\n",
    "\n",
    "import pandas as pd\n",
    "from sodapy import Socrata\n",
    "\n",
    "# Unauthenticated client only works with public data sets. Note 'None'\n",
    "# in place of application token, and no username or password:\n",
    "client = Socrata(\"data.cityofnewyork.us\", None)\n",
    "\n",
    "# Example authenticated client (needed for non-public datasets):\n",
    "# client = Socrata('data.cityofnewyork.us',\n",
    "#                  'XXX',\n",
    "#                  username=\"XXX\",\n",
    "#                  password=\"XXX\")\n",
    "\n",
    "# First 2000 results, returned as JSON from API / converted to Python list of\n",
    "# dictionaries by sodapy.\n",
    "results = client.get(\"gqrb-77i6\", limit=10000)\n",
    "\n",
    "# Convert to pandas DataFrame\n",
    "df = pd.DataFrame.from_records(results)\n",
    "len(df)"
   ]
  },
  {
   "cell_type": "code",
   "execution_count": 6,
   "metadata": {},
   "outputs": [],
   "source": [
    "# df=df[df.admitted_dt.str.contains('2018')]\n",
    "# len(df)"
   ]
  },
  {
   "cell_type": "code",
   "execution_count": 7,
   "metadata": {},
   "outputs": [],
   "source": [
    "# INMATEID This is the primary key column that uniquely identifies each inmate record.\n",
    "\n",
    "# ADMITTED_DT This field has the admitted date and time of the incident.\n",
    "\n",
    "# DISCHARGED_DT This field has the inmate discharged date and time.\n",
    "\n",
    "# CUSTODY_LEVEL This has the level of cutody provided for the inmate. Values are MIN,MED,Max custody levels.\n",
    "\n",
    "# BRADH has values Y or N. The inmate is under mental observation.\n",
    "\n",
    "# RACE Race of the inmate.\n",
    "\n",
    "# GENDER Gender of the inmate (Male or female).\n",
    "\n",
    "# AGE Calculated Age of the inmate.\n",
    "\n",
    "# INMATE_STATUS_CODE provides the inmate status example if an inmate id a detainee.\n",
    "\n",
    "# SEALED Sealed=Y implies that the inmate information is not to be shown in public.\n",
    "\n",
    "# SRG_FLG=Y means that the inmate is an approved gang affiliation.\n",
    "\n",
    "# TOP_CHARGE Top charge for the inmate.\n",
    "\n",
    "# INFRACTION Indicates whether the inmate has infraction."
   ]
  },
  {
   "cell_type": "code",
   "execution_count": 8,
   "metadata": {},
   "outputs": [
    {
     "data": {
      "text/plain": [
       "Index(['admitted_dt', 'age', 'bradh', 'custody_level', 'gender', 'infraction',\n",
       "       'inmate_status_code', 'inmateid', 'race', 'sealed', 'srg_flg',\n",
       "       'top_charge'],\n",
       "      dtype='object')"
      ]
     },
     "execution_count": 8,
     "metadata": {},
     "output_type": "execute_result"
    }
   ],
   "source": [
    "df.keys()"
   ]
  },
  {
   "cell_type": "code",
   "execution_count": null,
   "metadata": {},
   "outputs": [],
   "source": []
  },
  {
   "cell_type": "code",
   "execution_count": 9,
   "metadata": {},
   "outputs": [],
   "source": [
    "df['mental']=df.bradh.str.replace('Y','Under Mental Observation').replace('N','Without Mental Observation')"
   ]
  },
  {
   "cell_type": "code",
   "execution_count": 10,
   "metadata": {},
   "outputs": [
    {
     "data": {
      "text/plain": [
       "[Text(0,0.5,'y label')]"
      ]
     },
     "execution_count": 10,
     "metadata": {},
     "output_type": "execute_result"
    },
    {
     "data": {
      "image/png": "[encoded data removed]",
      "text/plain": [
       "<Figure size 720x360 with 1 Axes>"
      ]
     },
     "metadata": {},
     "output_type": "display_data"
    }
   ],
   "source": [
    "bar_colors=['lightgray','#FF6600']\n",
    "\n",
    "ax=df.mental.value_counts().plot(kind='barh',figsize=(10,5),color=bar_colors)\n",
    "\n",
    "ax.title.set_fontname('Impact')\n",
    "ax.set_title('Inmates Under Mental Observation in New York')\n",
    "ax.title.set_fontsize(32)\n",
    "ax.title.set_fontweight(weight='black')\n",
    "ax.spines['top'].set_visible(False)\n",
    "ax.spines['bottom'].set_visible(False)\n",
    "ax.spines['left'].set_visible(False)\n",
    "ax.spines['right'].set_visible(False)\n",
    "ax.tick_params(which='major', left=False, bottom=False)\n",
    "ax.grid(True, axis='x', color='lightgray', linestyle=':')\n",
    "\n",
    "\n",
    "ax.set_axisbelow(True)\n",
    "ax.yaxis.label.set_visible(False)\n",
    "ax.set_xticklabels([0,1000,2000,3000,'4000 Inmates'])\n",
    "ax.set(ylabel=\"y label\")"
   ]
  },
  {
   "cell_type": "code",
   "execution_count": 11,
   "metadata": {},
   "outputs": [],
   "source": [
    "df['Race']=df.race.str.replace('B','Black').replace('O','Other').replace('W','White').replace('A','Asian').replace('U','Unidentified')"
   ]
  },
  {
   "cell_type": "code",
   "execution_count": 12,
   "metadata": {},
   "outputs": [],
   "source": [
    "mental=df[df.bradh=='Y']\n"
   ]
  },
  {
   "cell_type": "code",
   "execution_count": 13,
   "metadata": {},
   "outputs": [
    {
     "data": {
      "text/plain": [
       "[Text(0,0,'0'),\n",
       " Text(0,0,'10'),\n",
       " Text(0,0,'20'),\n",
       " Text(0,0,'30'),\n",
       " Text(0,0,'40'),\n",
       " Text(0,0,'50 Percent')]"
      ]
     },
     "execution_count": 13,
     "metadata": {},
     "output_type": "execute_result"
    },
    {
     "data": {
      "image/png": "[encoded data removed]",
      "text/plain": [
       "<Figure size 720x360 with 1 Axes>"
      ]
     },
     "metadata": {},
     "output_type": "display_data"
    }
   ],
   "source": [
    "bar_colors=['lightgray','lightgray','lightgray','lightgray','lightgray','#FF6600']\n",
    "\n",
    "ax=mental.Race.value_counts(normalize=True).sort_values().plot(kind='barh', x='Race', figsize=(10,5),color=bar_colors, stacked=True,)\n",
    "\n",
    "ax.title.set_fontname('Impact')\n",
    "ax.set_title('Race of Inmates\\nWho are Under Mental Observation')\n",
    "ax.title.set_fontsize(32)\n",
    "ax.title.set_fontweight(weight='black')\n",
    "ax.spines['top'].set_visible(False)\n",
    "ax.spines['bottom'].set_visible(False)\n",
    "ax.spines['left'].set_visible(False)\n",
    "ax.spines['right'].set_visible(False)\n",
    "\n",
    "ax.tick_params(which='major', left=False, bottom=False)\n",
    "\n",
    "ax.grid(True, axis='x', color='lightgray', linestyle=':')\n",
    "\n",
    "\n",
    "ax.set_axisbelow(True)\n",
    "ax.yaxis.label.set_visible(False)\n",
    "ax.set_xticklabels([0,10,20,30,40,'50 Percent'])\n",
    "\n"
   ]
  },
  {
   "cell_type": "code",
   "execution_count": 14,
   "metadata": {},
   "outputs": [
    {
     "data": {
      "text/plain": [
       "[Text(0,0.5,'y label')]"
      ]
     },
     "execution_count": 14,
     "metadata": {},
     "output_type": "execute_result"
    },
    {
     "data": {
      "image/png": "[encoded data removed]",
      "text/plain": [
       "<Figure size 720x360 with 1 Axes>"
      ]
     },
     "metadata": {},
     "output_type": "display_data"
    }
   ],
   "source": [
    "bar_colors=['lightgray','#FF6600']\n",
    "\n",
    "ax=mental.gender.value_counts().sort_values().plot(kind='barh',figsize=(10,5),color=bar_colors)\n",
    "\n",
    "ax.title.set_fontname('Impact')\n",
    "ax.set_title('Gender of Inmates in New York')\n",
    "ax.title.set_fontsize(32)\n",
    "ax.title.set_fontweight(weight='black')\n",
    "ax.spines['top'].set_visible(False)\n",
    "ax.spines['bottom'].set_visible(False)\n",
    "ax.spines['left'].set_visible(False)\n",
    "ax.spines['right'].set_visible(False)\n",
    "ax.tick_params(which='major', left=False, bottom=False)\n",
    "ax.grid(True, axis='x', color='lightgray', linestyle=':')\n",
    "\n",
    "\n",
    "ax.set_axisbelow(True)\n",
    "ax.yaxis.label.set_visible(False)\n",
    "ax.set_xticklabels([0,1000,2000,3000,4000,5000,'6000 Inmates \\n Under Mental Observation'])\n",
    "ax.set(ylabel=\"y label\")"
   ]
  },
  {
   "cell_type": "code",
   "execution_count": 15,
   "metadata": {},
   "outputs": [],
   "source": [
    "df['gangs']=df.srg_flg.str.replace('N',\"Not a Member of any Gang\").replace('Y','Member of Gang')\n",
    "mental=df[df.bradh=='Y']"
   ]
  },
  {
   "cell_type": "code",
   "execution_count": 16,
   "metadata": {},
   "outputs": [
    {
     "data": {
      "text/plain": [
       "[Text(0,0.5,'y label')]"
      ]
     },
     "execution_count": 16,
     "metadata": {},
     "output_type": "execute_result"
    },
    {
     "data": {
      "image/png": "[encoded data removed]",
      "text/plain": [
       "<Figure size 720x360 with 1 Axes>"
      ]
     },
     "metadata": {},
     "output_type": "display_data"
    }
   ],
   "source": [
    "bar_colors=['lightgray','#FF6600']\n",
    "\n",
    "ax=mental.gangs.value_counts().plot(kind='barh',figsize=(10,5),color=bar_colors)\n",
    "\n",
    "ax.title.set_fontname('Impact')\n",
    "ax.set_title('Members of Gangs\\nUnder Mental Observation')\n",
    "ax.title.set_fontsize(32)\n",
    "ax.title.set_fontweight(weight='black')\n",
    "ax.spines['top'].set_visible(False)\n",
    "ax.spines['bottom'].set_visible(False)\n",
    "ax.spines['left'].set_visible(False)\n",
    "ax.spines['right'].set_visible(False)\n",
    "ax.tick_params(which='major', left=False, bottom=False)\n",
    "ax.grid(True, axis='x', color='lightgray', linestyle=':')\n",
    "\n",
    "\n",
    "ax.set_axisbelow(True)\n",
    "ax.yaxis.label.set_visible(False)\n",
    "#ax.set_xticklabels([0,1000,2000,3000,4000,5000,'6000 Inmates \\n Under Mental Observation'])\n",
    "ax.set(ylabel=\"y label\")"
   ]
  },
  {
   "cell_type": "code",
   "execution_count": 17,
   "metadata": {},
   "outputs": [
    {
     "data": {
      "text/plain": [
       "DE     376\n",
       "DEP     71\n",
       "CS      35\n",
       "DPV     24\n",
       "DNS      7\n",
       "SSR      4\n",
       "CSP      2\n",
       "SCO      1\n",
       "Name: inmate_status_code, dtype: int64"
      ]
     },
     "execution_count": 17,
     "metadata": {},
     "output_type": "execute_result"
    }
   ],
   "source": [
    "#NEED TO FIND OUT WHAT THESE CODES ARE\n",
    "mental[mental.gangs=='Member of Gang'].inmate_status_code.value_counts()"
   ]
  },
  {
   "cell_type": "code",
   "execution_count": 18,
   "metadata": {
    "scrolled": true
   },
   "outputs": [
    {
     "data": {
      "text/plain": [
       "125.25         67\n",
       "160.15         50\n",
       "110-125.25     42\n",
       "265.03         39\n",
       "120.05         22\n",
       "160.10         21\n",
       "120.10         19\n",
       "140.25         14\n",
       "220.39         13\n",
       "140.30         12\n",
       "155.30         10\n",
       "110-120.10      9\n",
       "140.20          9\n",
       "220.16          9\n",
       "105.15          8\n",
       "120.00          7\n",
       "105.17          6\n",
       "125.27          6\n",
       "170.25          5\n",
       "135.25          5\n",
       "110-160.15      5\n",
       "155.25          5\n",
       "110-120.07      4\n",
       "215.50          4\n",
       "CO              4\n",
       "215.51          3\n",
       "230.34          3\n",
       "150.15          3\n",
       "220.03          3\n",
       "110-140.25      3\n",
       "               ..\n",
       "265.02          1\n",
       "165.50          1\n",
       "110-120.05      1\n",
       "265.01          1\n",
       "110-140.30      1\n",
       "195.05          1\n",
       "170.20          1\n",
       "215.52          1\n",
       "AC 999.99       1\n",
       "165.40          1\n",
       "220.41          1\n",
       "265.12          1\n",
       "220.31          1\n",
       "130.65          1\n",
       "110-130.35H     1\n",
       "125.20          1\n",
       "120.11          1\n",
       "220.34          1\n",
       "110-220.39      1\n",
       "AC 000.00       1\n",
       "490.20          1\n",
       "220.21          1\n",
       "230.20          1\n",
       "130.52          1\n",
       "220.44          1\n",
       "155.40          1\n",
       "121.11          1\n",
       "140.25SM        1\n",
       "205.30          1\n",
       "260.10          1\n",
       "Name: top_charge, Length: 84, dtype: int64"
      ]
     },
     "execution_count": 18,
     "metadata": {},
     "output_type": "execute_result"
    }
   ],
   "source": [
    "#NEED TO FIND OUT WHAT THESE CODES ARE\n",
    "mental[mental.gangs=='Member of Gang'].top_charge.value_counts()"
   ]
  },
  {
   "cell_type": "code",
   "execution_count": 19,
   "metadata": {},
   "outputs": [
    {
     "data": {
      "text/plain": [
       "Index(['admitted_dt', 'age', 'bradh', 'custody_level', 'gender', 'infraction',\n",
       "       'inmate_status_code', 'inmateid', 'race', 'sealed', 'srg_flg',\n",
       "       'top_charge', 'mental', 'Race', 'gangs'],\n",
       "      dtype='object')"
      ]
     },
     "execution_count": 19,
     "metadata": {},
     "output_type": "execute_result"
    }
   ],
   "source": [
    "df.keys()"
   ]
  },
  {
   "cell_type": "raw",
   "metadata": {},
   "source": [
    "df.top_charge.value_counts()"
   ]
  },
  {
   "cell_type": "code",
   "execution_count": 22,
   "metadata": {},
   "outputs": [],
   "source": [
    "df['admitted']=pd.to_datetime(df.admitted_dt, format='%Y/%m/%d %H:%M:%S')"
   ]
  },
  {
   "cell_type": "code",
   "execution_count": 23,
   "metadata": {},
   "outputs": [
    {
     "data": {
      "text/html": [
       "<div>\n",
       "<style scoped>\n",
       "    .dataframe tbody tr th:only-of-type {\n",
       "        vertical-align: middle;\n",
       "    }\n",
       "\n",
       "    .dataframe tbody tr th {\n",
       "        vertical-align: top;\n",
       "    }\n",
       "\n",
       "    .dataframe thead th {\n",
       "        text-align: right;\n",
       "    }\n",
       "</style>\n",
       "<table border=\"1\" class=\"dataframe\">\n",
       "  <thead>\n",
       "    <tr style=\"text-align: right;\">\n",
       "      <th></th>\n",
       "      <th>admitted_dt</th>\n",
       "      <th>age</th>\n",
       "      <th>bradh</th>\n",
       "      <th>custody_level</th>\n",
       "      <th>gender</th>\n",
       "      <th>infraction</th>\n",
       "      <th>inmate_status_code</th>\n",
       "      <th>inmateid</th>\n",
       "      <th>race</th>\n",
       "      <th>sealed</th>\n",
       "      <th>srg_flg</th>\n",
       "      <th>top_charge</th>\n",
       "      <th>mental</th>\n",
       "      <th>Race</th>\n",
       "      <th>gangs</th>\n",
       "      <th>admitted</th>\n",
       "    </tr>\n",
       "  </thead>\n",
       "  <tbody>\n",
       "    <tr>\n",
       "      <th>0</th>\n",
       "      <td>2018-06-01T23:39:50.000</td>\n",
       "      <td>30</td>\n",
       "      <td>N</td>\n",
       "      <td>MED</td>\n",
       "      <td>M</td>\n",
       "      <td>N</td>\n",
       "      <td>DPV</td>\n",
       "      <td>20025</td>\n",
       "      <td>B</td>\n",
       "      <td>N</td>\n",
       "      <td>N</td>\n",
       "      <td>NaN</td>\n",
       "      <td>Without Mental Observation</td>\n",
       "      <td>Black</td>\n",
       "      <td>Not a Member of any Gang</td>\n",
       "      <td>2018-06-01 23:39:50</td>\n",
       "    </tr>\n",
       "    <tr>\n",
       "      <th>1</th>\n",
       "      <td>2018-06-22T16:56:05.000</td>\n",
       "      <td>33</td>\n",
       "      <td>N</td>\n",
       "      <td>MAX</td>\n",
       "      <td>M</td>\n",
       "      <td>N</td>\n",
       "      <td>DE</td>\n",
       "      <td>58432</td>\n",
       "      <td>B</td>\n",
       "      <td>N</td>\n",
       "      <td>N</td>\n",
       "      <td>160.10</td>\n",
       "      <td>Without Mental Observation</td>\n",
       "      <td>Black</td>\n",
       "      <td>Not a Member of any Gang</td>\n",
       "      <td>2018-06-22 16:56:05</td>\n",
       "    </tr>\n",
       "    <tr>\n",
       "      <th>2</th>\n",
       "      <td>2018-06-22T17:17:42.000</td>\n",
       "      <td>64</td>\n",
       "      <td>Y</td>\n",
       "      <td>MIN</td>\n",
       "      <td>M</td>\n",
       "      <td>N</td>\n",
       "      <td>DE</td>\n",
       "      <td>20196082</td>\n",
       "      <td>A</td>\n",
       "      <td>N</td>\n",
       "      <td>N</td>\n",
       "      <td>130.55</td>\n",
       "      <td>Under Mental Observation</td>\n",
       "      <td>Asian</td>\n",
       "      <td>Not a Member of any Gang</td>\n",
       "      <td>2018-06-22 17:17:42</td>\n",
       "    </tr>\n",
       "    <tr>\n",
       "      <th>3</th>\n",
       "      <td>2018-06-01T16:37:28.000</td>\n",
       "      <td>39</td>\n",
       "      <td>N</td>\n",
       "      <td>MIN</td>\n",
       "      <td>M</td>\n",
       "      <td>N</td>\n",
       "      <td>CS</td>\n",
       "      <td>10013090</td>\n",
       "      <td>B</td>\n",
       "      <td>N</td>\n",
       "      <td>N</td>\n",
       "      <td>110-220.39</td>\n",
       "      <td>Without Mental Observation</td>\n",
       "      <td>Black</td>\n",
       "      <td>Not a Member of any Gang</td>\n",
       "      <td>2018-06-01 16:37:28</td>\n",
       "    </tr>\n",
       "    <tr>\n",
       "      <th>4</th>\n",
       "      <td>2017-09-30T16:09:23.000</td>\n",
       "      <td>21</td>\n",
       "      <td>Y</td>\n",
       "      <td>MED</td>\n",
       "      <td>M</td>\n",
       "      <td>Y</td>\n",
       "      <td>DE</td>\n",
       "      <td>20187487</td>\n",
       "      <td>B</td>\n",
       "      <td>N</td>\n",
       "      <td>N</td>\n",
       "      <td>130.50</td>\n",
       "      <td>Under Mental Observation</td>\n",
       "      <td>Black</td>\n",
       "      <td>Not a Member of any Gang</td>\n",
       "      <td>2017-09-30 16:09:23</td>\n",
       "    </tr>\n",
       "  </tbody>\n",
       "</table>\n",
       "</div>"
      ],
      "text/plain": [
       "               admitted_dt age bradh custody_level gender infraction  \\\n",
       "0  2018-06-01T23:39:50.000  30     N           MED      M          N   \n",
       "1  2018-06-22T16:56:05.000  33     N           MAX      M          N   \n",
       "2  2018-06-22T17:17:42.000  64     Y           MIN      M          N   \n",
       "3  2018-06-01T16:37:28.000  39     N           MIN      M          N   \n",
       "4  2017-09-30T16:09:23.000  21     Y           MED      M          Y   \n",
       "\n",
       "  inmate_status_code  inmateid race sealed srg_flg  top_charge  \\\n",
       "0                DPV     20025    B      N       N         NaN   \n",
       "1                 DE     58432    B      N       N      160.10   \n",
       "2                 DE  20196082    A      N       N      130.55   \n",
       "3                 CS  10013090    B      N       N  110-220.39   \n",
       "4                 DE  20187487    B      N       N      130.50   \n",
       "\n",
       "                       mental   Race                     gangs  \\\n",
       "0  Without Mental Observation  Black  Not a Member of any Gang   \n",
       "1  Without Mental Observation  Black  Not a Member of any Gang   \n",
       "2    Under Mental Observation  Asian  Not a Member of any Gang   \n",
       "3  Without Mental Observation  Black  Not a Member of any Gang   \n",
       "4    Under Mental Observation  Black  Not a Member of any Gang   \n",
       "\n",
       "             admitted  \n",
       "0 2018-06-01 23:39:50  \n",
       "1 2018-06-22 16:56:05  \n",
       "2 2018-06-22 17:17:42  \n",
       "3 2018-06-01 16:37:28  \n",
       "4 2017-09-30 16:09:23  "
      ]
     },
     "execution_count": 23,
     "metadata": {},
     "output_type": "execute_result"
    }
   ],
   "source": [
    "df.head()"
   ]
  },
  {
   "cell_type": "code",
   "execution_count": null,
   "metadata": {},
   "outputs": [],
   "source": []
  }
 ],
 "metadata": {
  "kernelspec": {
   "display_name": "Python 3",
   "language": "python",
   "name": "python3"
  },
  "language_info": {
   "codemirror_mode": {
    "name": "ipython",
    "version": 3
   },
   "file_extension": ".py",
   "mimetype": "text/x-python",
   "name": "python",
   "nbconvert_exporter": "python",
   "pygments_lexer": "ipython3",
   "version": "3.6.4"
  }
 },
 "nbformat": 4,
 "nbformat_minor": 2
}
